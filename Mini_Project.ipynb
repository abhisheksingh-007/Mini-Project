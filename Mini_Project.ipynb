{
  "nbformat": 4,
  "nbformat_minor": 0,
  "metadata": {
    "colab": {
      "name": "Mini Project.ipynb",
      "provenance": [],
      "authorship_tag": "ABX9TyN4RJ0jVT1dc0ke6qXYK3fI",
      "include_colab_link": true
    },
    "kernelspec": {
      "name": "python3",
      "display_name": "Python 3"
    },
    "language_info": {
      "name": "python"
    }
  },
  "cells": [
    {
      "cell_type": "markdown",
      "metadata": {
        "id": "view-in-github",
        "colab_type": "text"
      },
      "source": [
        "<a href=\"https://colab.research.google.com/github/abhisheksingh-007/Mini-Project/blob/main/Mini_Project.ipynb\" target=\"_parent\"><img src=\"https://colab.research.google.com/assets/colab-badge.svg\" alt=\"Open In Colab\"/></a>"
      ]
    },
    {
      "cell_type": "code",
      "metadata": {
        "colab": {
          "base_uri": "https://localhost:8080/"
        },
        "id": "rXCw33wF7Y0i",
        "outputId": "b1fa293b-7341-4833-fc09-d4a09e8aff41"
      },
      "source": [
        "!pip install ipython-autotime\n",
        "%load_ext autotime"
      ],
      "execution_count": null,
      "outputs": [
        {
          "output_type": "stream",
          "text": [
            "Collecting ipython-autotime\n",
            "  Downloading https://files.pythonhosted.org/packages/b4/c9/b413a24f759641bc27ef98c144b590023c8038dfb8a3f09e713e9dff12c1/ipython_autotime-0.3.1-py2.py3-none-any.whl\n",
            "Requirement already satisfied: ipython in /usr/local/lib/python3.7/dist-packages (from ipython-autotime) (5.5.0)\n",
            "Requirement already satisfied: traitlets>=4.2 in /usr/local/lib/python3.7/dist-packages (from ipython->ipython-autotime) (5.0.5)\n",
            "Requirement already satisfied: simplegeneric>0.8 in /usr/local/lib/python3.7/dist-packages (from ipython->ipython-autotime) (0.8.1)\n",
            "Requirement already satisfied: prompt-toolkit<2.0.0,>=1.0.4 in /usr/local/lib/python3.7/dist-packages (from ipython->ipython-autotime) (1.0.18)\n",
            "Requirement already satisfied: pexpect; sys_platform != \"win32\" in /usr/local/lib/python3.7/dist-packages (from ipython->ipython-autotime) (4.8.0)\n",
            "Requirement already satisfied: decorator in /usr/local/lib/python3.7/dist-packages (from ipython->ipython-autotime) (4.4.2)\n",
            "Requirement already satisfied: pygments in /usr/local/lib/python3.7/dist-packages (from ipython->ipython-autotime) (2.6.1)\n",
            "Requirement already satisfied: pickleshare in /usr/local/lib/python3.7/dist-packages (from ipython->ipython-autotime) (0.7.5)\n",
            "Requirement already satisfied: setuptools>=18.5 in /usr/local/lib/python3.7/dist-packages (from ipython->ipython-autotime) (57.0.0)\n",
            "Requirement already satisfied: ipython-genutils in /usr/local/lib/python3.7/dist-packages (from traitlets>=4.2->ipython->ipython-autotime) (0.2.0)\n",
            "Requirement already satisfied: six>=1.9.0 in /usr/local/lib/python3.7/dist-packages (from prompt-toolkit<2.0.0,>=1.0.4->ipython->ipython-autotime) (1.15.0)\n",
            "Requirement already satisfied: wcwidth in /usr/local/lib/python3.7/dist-packages (from prompt-toolkit<2.0.0,>=1.0.4->ipython->ipython-autotime) (0.2.5)\n",
            "Requirement already satisfied: ptyprocess>=0.5 in /usr/local/lib/python3.7/dist-packages (from pexpect; sys_platform != \"win32\"->ipython->ipython-autotime) (0.7.0)\n",
            "Installing collected packages: ipython-autotime\n",
            "Successfully installed ipython-autotime-0.3.1\n",
            "time: 164 µs (started: 2021-06-27 19:31:47 +00:00)\n"
          ],
          "name": "stdout"
        }
      ]
    },
    {
      "cell_type": "code",
      "metadata": {
        "colab": {
          "base_uri": "https://localhost:8080/"
        },
        "id": "WdPRdmvu0t5s",
        "outputId": "a200990c-b8a8-43c9-fc58-b9dc38239697"
      },
      "source": [
        "!pip install bing-image-downloader"
      ],
      "execution_count": null,
      "outputs": [
        {
          "output_type": "stream",
          "text": [
            "Collecting bing-image-downloader\n",
            "  Downloading https://files.pythonhosted.org/packages/c2/04/1872a689a30036aa0b81ac9fca124a7413cad71fdab714f727cf1a34b671/bing_image_downloader-1.1.1-py3-none-any.whl\n",
            "Installing collected packages: bing-image-downloader\n",
            "Successfully installed bing-image-downloader-1.1.1\n",
            "time: 2.93 s (started: 2021-06-27 19:31:53 +00:00)\n"
          ],
          "name": "stdout"
        }
      ]
    },
    {
      "cell_type": "code",
      "metadata": {
        "id": "X6L9XhBL3jUH",
        "colab": {
          "base_uri": "https://localhost:8080/"
        },
        "outputId": "c4e55b3b-7561-4c85-b252-8c28254cfd78"
      },
      "source": [
        "!mkdir images"
      ],
      "execution_count": null,
      "outputs": [
        {
          "output_type": "stream",
          "text": [
            "time: 120 ms (started: 2021-06-27 19:32:06 +00:00)\n"
          ],
          "name": "stdout"
        }
      ]
    },
    {
      "cell_type": "code",
      "metadata": {
        "colab": {
          "base_uri": "https://localhost:8080/"
        },
        "id": "wjjCAj6-4X_e",
        "outputId": "3f541b21-e2c9-4b4d-ea36-70834ca84136"
      },
      "source": [
        "from bing_image_downloader import downloader\n",
        "downloader.download(\"car\",limit=40,output_dir='images',adult_filter_off=True)"
      ],
      "execution_count": null,
      "outputs": [
        {
          "output_type": "stream",
          "text": [
            "[%] Downloading Images to /content/images/car\n",
            "\n",
            "\n",
            "[!!]Indexing page: 1\n",
            "\n",
            "[%] Indexed 40 Images on Page 1.\n",
            "\n",
            "===============================================\n",
            "\n",
            "[%] Downloading Image #1 from http://jaikrishnaamaruti.com/uploads/truevalue_cars/0_27-01-2018_16-03-53.jpg\n",
            "[%] File Downloaded !\n",
            "\n",
            "[%] Downloading Image #2 from https://cdn-news.warriortrading.com/wp-content/uploads/2017/02/19182100/TRUE-Logo.jpg\n",
            "[%] File Downloaded !\n",
            "\n",
            "[%] Downloading Image #3 from https://static.carthrottle.com/workspace/uploads/posts/2017/12/0fcad9c9368abebdbfb8aaf0211bf96b.jpg\n",
            "[%] File Downloaded !\n",
            "\n",
            "[%] Downloading Image #4 from http://jaikrishnaamaruti.com/uploads/truevalue_cars/0_15-10-2020_10-03-43.jpeg\n",
            "[%] File Downloaded !\n",
            "\n",
            "[%] Downloading Image #5 from http://jaikrishnaamaruti.com/uploads/truevalue_cars/1_06-03-2018_11-36-40.jpg\n",
            "[%] File Downloaded !\n",
            "\n",
            "[%] Downloading Image #6 from http://www.thedetroitbureau.com/wp-content/uploads/2011/08/TrueCar-Logo.jpg\n",
            "[%] File Downloaded !\n",
            "\n",
            "[%] Downloading Image #7 from https://di-uploads-pod4.s3.amazonaws.com/oxmoortoyota/uploads/2015/01/True-Car-Logo.jpg\n",
            "[%] File Downloaded !\n",
            "\n",
            "[%] Downloading Image #8 from http://jaikrishnaamaruti.com/uploads/truevalue_cars/1_06-03-2018_11-40-09.jpg\n",
            "[%] File Downloaded !\n",
            "\n",
            "[%] Downloading Image #9 from https://i.pinimg.com/originals/58/b6/1c/58b61c6bb0431d1aa3d6e26916cc16e1.jpg\n",
            "[%] File Downloaded !\n",
            "\n",
            "[%] Downloading Image #10 from https://i.pinimg.com/736x/b6/b7/3e/b6b73eac3c2a914cec988a110add8161.jpg\n",
            "[%] File Downloaded !\n",
            "\n",
            "[%] Downloading Image #11 from https://cdnwestus.azureedge.net/mediacontainer/19874_large.png\n",
            "[%] File Downloaded !\n",
            "\n",
            "[%] Downloading Image #12 from http://jaikrishnaamaruti.com/uploads/truevalue_cars/3_29-09-2016_12-43-24.jpg\n",
            "[%] File Downloaded !\n",
            "\n",
            "[%] Downloading Image #13 from http://jaikrishnaamaruti.com/uploads/truevalue_cars/1_06-03-2018_11-58-12.jpg\n",
            "[%] File Downloaded !\n",
            "\n",
            "[%] Downloading Image #14 from http://www.imcdb.org/i324246.jpg\n",
            "[Error]Invalid image, not saving http://www.imcdb.org/i324246.jpg\n",
            "\n",
            "[!] Issue getting: http://www.imcdb.org/i324246.jpg\n",
            "[!] Error:: Invalid image, not saving http://www.imcdb.org/i324246.jpg\n",
            "\n",
            "[%] Downloading Image #14 from http://jaikrishnaamaruti.com/uploads/truevalue_cars/1_15-10-2016_11-06-49.jpg\n",
            "[%] File Downloaded !\n",
            "\n",
            "[%] Downloading Image #15 from http://jaikrishnaamaruti.com/uploads/truevalue_cars/0_06-03-2018_11-36-40.jpg\n",
            "[%] File Downloaded !\n",
            "\n",
            "[%] Downloading Image #16 from http://jaikrishnaamaruti.com/uploads/truevalue_cars/1_10-02-2018_12-35-46.jpg\n",
            "[%] File Downloaded !\n",
            "\n",
            "[%] Downloading Image #17 from https://external-preview.redd.it/pbEfLIYe90hFmJFBXWG8K0oXU4ayUl-6-USZlF7G_qk.jpg?auto=webp&amp;s=b2d9b17a5a84826506058e26ddbaeead84d0761a\n",
            "[!] Issue getting: https://external-preview.redd.it/pbEfLIYe90hFmJFBXWG8K0oXU4ayUl-6-USZlF7G_qk.jpg?auto=webp&amp;s=b2d9b17a5a84826506058e26ddbaeead84d0761a\n",
            "[!] Error:: HTTP Error 403: Forbidden\n",
            "[%] Downloading Image #17 from http://jaikrishnaamaruti.com/uploads/truevalue_cars/2_10-09-2016_12-41-14.jpg\n",
            "[%] File Downloaded !\n",
            "\n",
            "[%] Downloading Image #18 from https://yt3.ggpht.com/a-/AAuE7mALGC_R3AcUGBgtGhF9e-Bdb3JhYeo53mniPA=s900-mo-c-c0xffffffff-rj-k-no\n",
            "[%] File Downloaded !\n",
            "\n",
            "[%] Downloading Image #19 from https://images.ctfassets.net/h52as2aiqybp/1Rb2TVz3n9Rc0DtZQxqGyT/ad91f459891afbca24931d1b233f9117/TrueCarlogonew.png\n",
            "[%] File Downloaded !\n",
            "\n",
            "[%] Downloading Image #20 from http://jaikrishnaamaruti.com/uploads/truevalue_cars/0_13-08-2020_12-54-32.jpeg\n",
            "[%] File Downloaded !\n",
            "\n",
            "[%] Downloading Image #21 from http://media.mlive.com/auto_impact/photo/11892263-large.jpg\n",
            "[%] File Downloaded !\n",
            "\n",
            "[%] Downloading Image #22 from http://www.louisgray.com/graphics/bmw_800a.jpg\n",
            "[%] File Downloaded !\n",
            "\n",
            "[%] Downloading Image #23 from https://i.pinimg.com/originals/54/fe/41/54fe41a04ae68d89cf3da278b95c0124.jpg\n",
            "[%] File Downloaded !\n",
            "\n",
            "[%] Downloading Image #24 from https://cdn.motor1.com/images/mgl/8gJ93/s4/amc-amx-the-first-true-sports-car-of-the-1960s.jpg\n",
            "[%] File Downloaded !\n",
            "\n",
            "[%] Downloading Image #25 from http://jaikrishnaamaruti.com/uploads/truevalue_cars/0_03-08-2018_12-22-54.jpg\n",
            "[%] File Downloaded !\n",
            "\n",
            "[%] Downloading Image #26 from https://media.whatcar.com/wc-image/2020-01/truempgestates.jpg\n",
            "[%] File Downloaded !\n",
            "\n",
            "[%] Downloading Image #27 from https://trueprice.co.za/images/news/which-cars-have-the-best-resale-value.jpg\n",
            "[%] File Downloaded !\n",
            "\n",
            "[%] Downloading Image #28 from http://c2c.sulekhalive.com/cars/images/variants/general-car-photos/thumbnailfull/maruti-true-value-ecr4.jpg\n",
            "[%] File Downloaded !\n",
            "\n",
            "[%] Downloading Image #29 from http://jaikrishnaamaruti.com/uploads/truevalue_cars/3_13-08-2020_13-46-40.jpeg\n",
            "[%] File Downloaded !\n",
            "\n",
            "[%] Downloading Image #30 from https://4.imimg.com/data4/NO/UH/ANDROID-41207236/product-250x250.jpeg\n",
            "[%] File Downloaded !\n",
            "\n",
            "[%] Downloading Image #31 from https://i.pinimg.com/originals/39/21/cf/3921cf82ce4d0f8f06e18a4a272004df.jpg\n",
            "[%] File Downloaded !\n",
            "\n",
            "[%] Downloading Image #32 from http://jaikrishnaamaruti.com/uploads/truevalue_cars/3_17-10-2016_15-47-02.jpg\n",
            "[%] File Downloaded !\n",
            "\n",
            "[%] Downloading Image #33 from https://i.ytimg.com/vi/L4ASPTYAokQ/maxresdefault.jpg\n",
            "[%] File Downloaded !\n",
            "\n",
            "[%] Downloading Image #34 from https://www.team-bhp.com/forum/attachments/indian-car-scene/1980190d1584260217-maruti-true-value-starts-cars24-like-car-buying-service-maruti-suzuki-true-value.jpg\n",
            "[%] File Downloaded !\n",
            "\n",
            "[%] Downloading Image #35 from https://www.gran-turismo.com/gtsport/livery/4621349699214935057_23.jpg?5e486a1dbe56448e7a2a\n",
            "[%] File Downloaded !\n",
            "\n",
            "[%] Downloading Image #36 from https://farm5.staticflickr.com/4110/5027971302_35ec2b05d5_z.jpg\n",
            "[%] File Downloaded !\n",
            "\n",
            "[%] Downloading Image #37 from https://i.pinimg.com/originals/91/5a/42/915a42dbe06602038a4aa07057026dd5.jpg\n",
            "[%] File Downloaded !\n",
            "\n",
            "[%] Downloading Image #38 from https://i.pinimg.com/originals/b3/a6/47/b3a64770647364851c25139fc1d26c92.jpg\n",
            "[%] File Downloaded !\n",
            "\n",
            "\n",
            "\n",
            "[!!]Indexing page: 2\n",
            "\n",
            "[%] Indexed 35 Images on Page 2.\n",
            "\n",
            "===============================================\n",
            "\n",
            "[%] Downloading Image #39 from http://jaikrishnaamaruti.com/uploads/truevalue_cars/0_27-01-2018_16-03-53.jpg\n",
            "[%] File Downloaded !\n",
            "\n",
            "[%] Downloading Image #40 from https://cdn-news.warriortrading.com/wp-content/uploads/2017/02/19182100/TRUE-Logo.jpg\n",
            "[%] File Downloaded !\n",
            "\n",
            "\n",
            "\n",
            "[%] Done. Downloaded 40 images.\n",
            "===============================================\n",
            "\n",
            "Please show your support here\n",
            "https://www.buymeacoffee.com/gurugaurav\n",
            "\n",
            "===============================================\n",
            "\n",
            "time: 43.5 s (started: 2021-06-27 19:32:30 +00:00)\n"
          ],
          "name": "stdout"
        }
      ]
    },
    {
      "cell_type": "code",
      "metadata": {
        "colab": {
          "base_uri": "https://localhost:8080/"
        },
        "id": "QFAqfee25eY1",
        "outputId": "861f525b-a913-4b53-8b86-ef7cb2bda831"
      },
      "source": [
        "from bing_image_downloader import downloader\n",
        "downloader.download(\"ships\",limit=40,output_dir='images',adult_filter_off=True)"
      ],
      "execution_count": 75,
      "outputs": [
        {
          "output_type": "stream",
          "text": [
            "[%] Downloading Images to /content/images/ships\n",
            "\n",
            "\n",
            "[!!]Indexing page: 1\n",
            "\n",
            "[%] Indexed 40 Images on Page 1.\n",
            "\n",
            "===============================================\n",
            "\n",
            "[%] Downloading Image #1 from https://i.pinimg.com/originals/c0/cf/a7/c0cfa73fab22f112e2c0be1c359b1406.jpg\n",
            "[%] File Downloaded !\n",
            "\n",
            "[%] Downloading Image #2 from https://cruisepassenger.com.au/wp-content/uploads/2013/11/True-North.png\n",
            "[%] File Downloaded !\n",
            "\n",
            "[%] Downloading Image #3 from http://maritime-connector.com/ships_uploads/true_light-9473523-general_cargo-8-103437.jpg\n",
            "[!] Issue getting: http://maritime-connector.com/ships_uploads/true_light-9473523-general_cargo-8-103437.jpg\n",
            "[!] Error:: HTTP Error 404: Not Found\n",
            "[%] Downloading Image #3 from http://content.cleancruising.com.au/images/ship/gallery/TrueNorth/TRUNOR.jpg\n",
            "[%] File Downloaded !\n",
            "\n",
            "[%] Downloading Image #4 from http://www.echo.net.au/wp-content/uploads/2015/09/Motor-Yacht-True-North-landing.jpg\n",
            "[%] File Downloaded !\n",
            "\n",
            "[%] Downloading Image #5 from https://www.expeditioncruisespecialists.com/library/ships/true-north/true-north-in-the-kimberley-.jpg\n",
            "[%] File Downloaded !\n",
            "\n",
            "[%] Downloading Image #6 from https://i.pinimg.com/originals/30/f4/1a/30f41ab65fe7d39a8ef15ad6995ccb69.jpg\n",
            "[%] File Downloaded !\n",
            "\n",
            "[%] Downloading Image #7 from https://content.cleancruising.com.au/images/cruiseline/hero_TRU.jpg\n",
            "[%] File Downloaded !\n",
            "\n",
            "[%] Downloading Image #8 from https://www.cruisemapper.com/images/ships/1590-ff0efe53462.jpg\n",
            "[%] File Downloaded !\n",
            "\n",
            "[%] Downloading Image #9 from https://thecruiseherald.com/wp-content/uploads/2021/01/cruise-ships-back-in-service-january-2021-update-cruise-industry-news-18.jpg\n",
            "[%] File Downloaded !\n",
            "\n",
            "[%] Downloading Image #10 from https://i.pinimg.com/originals/0c/54/b9/0c54b96ece208ff561cea6a4b285436c.jpg\n",
            "[%] File Downloaded !\n",
            "\n",
            "[%] Downloading Image #11 from https://www.cruisebe.com/sites/default/files/images3/1cruise-ships-stars.jpg\n",
            "[%] File Downloaded !\n",
            "\n",
            "[%] Downloading Image #12 from https://i.pinimg.com/originals/2a/3b/57/2a3b57181ff37ad5f55ab0e8b93e3972.jpg\n",
            "[%] File Downloaded !\n",
            "\n",
            "[%] Downloading Image #13 from https://i.ytimg.com/vi/vZWyvYu0sJQ/maxresdefault.jpg\n",
            "[%] File Downloaded !\n",
            "\n",
            "[%] Downloading Image #14 from https://1.bp.blogspot.com/-wPpfx66ghj4/T9Sb9tLEZZI/AAAAAAAAAG0/4S0UD5K2Bms/s1600/74439.jpg\n",
            "[%] File Downloaded !\n",
            "\n",
            "[%] Downloading Image #15 from https://www.mytruemiles.com/wp-content/uploads/2015/09/shutterstock_33353485-540x540.jpg\n",
            "[%] File Downloaded !\n",
            "\n",
            "[%] Downloading Image #16 from https://i.pinimg.com/originals/58/6b/cb/586bcb3473e0397eab3492ac5510564d.jpg\n",
            "[%] File Downloaded !\n",
            "\n",
            "[%] Downloading Image #17 from http://i.dailymail.co.uk/i/pix/2009/03/11/article-0-03D653EA000005DC-560_468x286.jpg\n",
            "[Error]Invalid image, not saving http://i.dailymail.co.uk/i/pix/2009/03/11/article-0-03D653EA000005DC-560_468x286.jpg\n",
            "\n",
            "[!] Issue getting: http://i.dailymail.co.uk/i/pix/2009/03/11/article-0-03D653EA000005DC-560_468x286.jpg\n",
            "[!] Error:: Invalid image, not saving http://i.dailymail.co.uk/i/pix/2009/03/11/article-0-03D653EA000005DC-560_468x286.jpg\n",
            "\n",
            "[%] Downloading Image #17 from https://s.yimg.com/uu/api/res/1.2/Z2u5G12Sz1AB31q0Kq9cTg--/aD0zNTk7dz01NDA7c209MTthcHBpZD15dGFjaHlvbg--/https://s.yimg.com/cd/resizer/2.0/FIT_TO_WIDTH-w540/5bb4c4301df2f3a7fb78611327915e63f9a99800.jpg\n",
            "[%] File Downloaded !\n",
            "\n",
            "[%] Downloading Image #18 from https://i.redd.it/20fiof62akp21.jpg\n",
            "[%] File Downloaded !\n",
            "\n",
            "[%] Downloading Image #19 from https://i1.wp.com/truepundit.com/wp-content/uploads/2020/02/destroyers-lasers-lockheed-martin.jpg?fit=1862%2C1048&amp;ssl=1\n",
            "[%] File Downloaded !\n",
            "\n",
            "[%] Downloading Image #20 from https://i.pinimg.com/originals/ba/5b/23/ba5b239da18f0ff8f469aade4b98f739.jpg\n",
            "[%] File Downloaded !\n",
            "\n",
            "[%] Downloading Image #21 from https://i.ytimg.com/vi/VcMxLYNSXIk/maxresdefault.jpg\n",
            "[%] File Downloaded !\n",
            "\n",
            "[%] Downloading Image #22 from https://i.pinimg.com/originals/36/74/4a/36744af9b5730dfa9f53b6e5941d64c8.jpg\n",
            "[%] File Downloaded !\n",
            "\n",
            "[%] Downloading Image #23 from https://i.pinimg.com/originals/7d/20/9a/7d209a109be82e89bea74d7f7902dd42.jpg\n",
            "[%] File Downloaded !\n",
            "\n",
            "[%] Downloading Image #24 from https://www.theguideliverpool.com/wp-content/uploads/2016/09/Tall-ship-Phoenix-heading-to-Pirate-Festival-on-the-Dock-Albert-Dock-2016-1024x768.jpg\n",
            "[%] File Downloaded !\n",
            "\n",
            "[%] Downloading Image #25 from https://i.ytimg.com/vi/UzW6Ve6C8lc/maxresdefault.jpg\n",
            "[%] File Downloaded !\n",
            "\n",
            "[%] Downloading Image #26 from https://ship-photo-roster.com/images/photos/thumbs/cf/cf3ac7fb6e_l.jpg\n",
            "[%] File Downloaded !\n",
            "\n",
            "[%] Downloading Image #27 from https://i.pinimg.com/originals/74/2e/a0/742ea0d36d8ac0b412adb235b70de1cf.jpg\n",
            "[%] File Downloaded !\n",
            "\n",
            "[%] Downloading Image #28 from https://i.pinimg.com/originals/29/f8/b7/29f8b7360f61c679303cb28d2787fc2b.jpg\n",
            "[%] File Downloaded !\n",
            "\n",
            "[%] Downloading Image #29 from http://thetruesithempire.weebly.com/uploads/6/5/0/4/6504383/866244.jpg?952\n",
            "[%] File Downloaded !\n",
            "\n",
            "[%] Downloading Image #30 from https://hartmanyachts.com/wp-content/uploads/fram-sail.jpg\n",
            "[%] File Downloaded !\n",
            "\n",
            "[%] Downloading Image #31 from https://www.truenorth.com.au/wp-content/uploads/KWC-14-09.jpg\n",
            "[%] File Downloaded !\n",
            "\n",
            "[%] Downloading Image #32 from https://i.pinimg.com/originals/bd/96/04/bd960486b8bf99d3d1f49bfabaa7578f.jpg\n",
            "[%] File Downloaded !\n",
            "\n",
            "[%] Downloading Image #33 from https://i.ytimg.com/vi/iefWa38yGzU/maxresdefault.jpg\n",
            "[%] File Downloaded !\n",
            "\n",
            "[%] Downloading Image #34 from https://s3.amazonaws.com/s3.timetoast.com/public/uploads/photos/3556204/ship.jpg?1361500701\n",
            "[%] File Downloaded !\n",
            "\n",
            "[%] Downloading Image #35 from http://images.r.cruisecritic.com/ships/morephotos/rewrite_true-north-helicopter.jpg\n",
            "[%] File Downloaded !\n",
            "\n",
            "[%] Downloading Image #36 from https://proudamericantraveler.com/wp-content/uploads/2020/02/photo-1572250800850-c99a185f720f-e1582318662107.jpeg\n",
            "[%] File Downloaded !\n",
            "\n",
            "[%] Downloading Image #37 from https://thetruesithempire.weebly.com/uploads/6/5/0/4/6504383/9291710.jpg?549\n",
            "[%] File Downloaded !\n",
            "\n",
            "[%] Downloading Image #38 from https://i.pinimg.com/originals/01/38/dc/0138dcb3bfbe7dd245244b4baaa2b516.jpg\n",
            "[%] File Downloaded !\n",
            "\n",
            "\n",
            "\n",
            "[!!]Indexing page: 2\n",
            "\n",
            "[%] Indexed 35 Images on Page 2.\n",
            "\n",
            "===============================================\n",
            "\n",
            "[%] Downloading Image #39 from https://cruisepassenger.com.au/wp-content/uploads/2013/11/True-North.png\n",
            "[%] File Downloaded !\n",
            "\n",
            "[%] Downloading Image #40 from http://content.cleancruising.com.au/images/ship/gallery/TrueNorth/TRUNOR.jpg\n",
            "[%] File Downloaded !\n",
            "\n",
            "\n",
            "\n",
            "[%] Done. Downloaded 40 images.\n",
            "===============================================\n",
            "\n",
            "Please show your support here\n",
            "https://www.buymeacoffee.com/gurugaurav\n",
            "\n",
            "===============================================\n",
            "\n",
            "time: 37 s (started: 2021-06-27 20:44:59 +00:00)\n"
          ],
          "name": "stdout"
        }
      ]
    },
    {
      "cell_type": "code",
      "metadata": {
        "colab": {
          "base_uri": "https://localhost:8080/"
        },
        "id": "INRmsTbG8BoW",
        "outputId": "7c94d768-7489-409c-d38d-23e138bfbfa2"
      },
      "source": [
        "from bing_image_downloader import downloader\n",
        "downloader.download(\"planes\",limit=40,output_dir='images',adult_filter_off=True)"
      ],
      "execution_count": null,
      "outputs": [
        {
          "output_type": "stream",
          "text": [
            "[%] Downloading Images to /content/images/planes\n",
            "\n",
            "\n",
            "[!!]Indexing page: 1\n",
            "\n",
            "[%] Indexed 40 Images on Page 1.\n",
            "\n",
            "===============================================\n",
            "\n",
            "[%] Downloading Image #1 from https://www.gannett-cdn.com/-mm-/3ded680182cee716bb5051c6c652a9719a6710db/c=0-166-3500-2135/local/-/media/Cincinnati/2014/07/17/planes-fire-rescue-mov-jy-3134-.jpg?width=3200&amp;height=1680&amp;fit=crop\n",
            "[%] File Downloaded !\n",
            "\n",
            "[%] Downloading Image #2 from https://i.pinimg.com/originals/7c/19/7b/7c197bb360d16e8b44bb4a378baacc14.jpg\n",
            "[%] File Downloaded !\n",
            "\n",
            "[%] Downloading Image #3 from http://4.bp.blogspot.com/-kdfAqCOzYtQ/UTAG7u82ZpI/AAAAAAAAAGk/ZiuSIiUFF0w/s1600/planes-movie.jpg\n",
            "[%] File Downloaded !\n",
            "\n",
            "[%] Downloading Image #4 from http://1.bp.blogspot.com/-dUMn1ly0ux0/UaXuZDn8rDI/AAAAAAAAAEc/S2GV4CBTSj0/s1600/Planes-Movie-Picture+(13).jpg\n",
            "[%] File Downloaded !\n",
            "\n",
            "[%] Downloading Image #5 from http://2.bp.blogspot.com/-vz9q1OGyIr8/UZmA-2-QLrI/AAAAAAAAAEo/eIzOkBq4wIc/s1600/disney_planes.png\n",
            "[%] File Downloaded !\n",
            "\n",
            "[%] Downloading Image #6 from https://i.pinimg.com/originals/37/0f/1b/370f1b3e0e98973f845babf0ef355dbc.jpg\n",
            "[%] File Downloaded !\n",
            "\n",
            "[%] Downloading Image #7 from https://i.pinimg.com/originals/d5/db/45/d5db45f2d9e2f26a8e5e9619169c3d31.jpg\n",
            "[%] File Downloaded !\n",
            "\n",
            "[%] Downloading Image #8 from https://i.pinimg.com/736x/e6/ff/9c/e6ff9ca2b7affaed6abd352725dc4173--sea-planes-dream-come-true.jpg\n",
            "[%] File Downloaded !\n",
            "\n",
            "[%] Downloading Image #9 from https://i.pinimg.com/736x/b8/da/74/b8da7449ef8a165e2e285df4849b0a20--classic-search.jpg\n",
            "[%] File Downloaded !\n",
            "\n",
            "[%] Downloading Image #10 from https://2.bp.blogspot.com/-DP-mRPsfVHA/UA5zq0FZNTI/AAAAAAAAH5M/nl6fieQf-ec/s1600/Airplane_aeroplane_aircraft_jet_wallpapers+(16).jpg\n",
            "[%] File Downloaded !\n",
            "\n",
            "[%] Downloading Image #11 from https://i1.wp.com/www.avgeekery.com/wp-content/uploads/2017/06/US_Navy_050803-N-0295M-113_A_T-2C_Buckeye_assigned_to_the_U.S._Naval_Test_Pilot_School_takes_off_for_a_training_flight_from_Naval_Air_Station_Patuxent_River_Md.jpg?fit=2048%2C1440&amp;ssl=1\n",
            "[%] File Downloaded !\n",
            "\n",
            "[%] Downloading Image #12 from https://i.pinimg.com/736x/3e/b6/6a/3eb66a7d236a14553e01a3be7afae9ae--tips-private-plane.jpg\n",
            "[%] File Downloaded !\n",
            "\n",
            "[%] Downloading Image #13 from https://i.pinimg.com/originals/db/d3/22/dbd322dfcd42d6b550eabcfbd31df004.jpg\n",
            "[%] File Downloaded !\n",
            "\n",
            "[%] Downloading Image #14 from https://i.pinimg.com/originals/26/aa/43/26aa437b92a705ecd9c5f994374ac432.jpg\n",
            "[%] File Downloaded !\n",
            "\n",
            "[%] Downloading Image #15 from https://truemedian.com/wp-content/uploads/2020/11/148255-first-planes-land-at-berlins-much-delayed-airport.jpg\n",
            "[%] File Downloaded !\n",
            "\n",
            "[%] Downloading Image #16 from https://i.pinimg.com/originals/c5/45/4d/c5454dcbea0b812cf7a621b2571af495.jpg\n",
            "[%] File Downloaded !\n",
            "\n",
            "[%] Downloading Image #17 from https://gohunt-assets-us-west-2.s3.amazonaws.com/media/Float-plane-3.jpg\n",
            "[%] File Downloaded !\n",
            "\n",
            "[%] Downloading Image #18 from https://i.pinimg.com/736x/13/66/bf/1366bf91c0784fd07e652ed5d1135580--ski-homes.jpg\n",
            "[%] File Downloaded !\n",
            "\n",
            "[%] Downloading Image #19 from https://qph.fs.quoracdn.net/main-qimg-05d24c4b2553efd4185c6cce94facfa2-c\n",
            "[%] File Downloaded !\n",
            "\n",
            "[%] Downloading Image #20 from http://1.bp.blogspot.com/--Y9AAGMZDDw/UA509H7R2zI/AAAAAAAAH6k/6CQS-5dlMIs/s1600/Airplane_aeroplane_aircraft_jet_wallpapers+(45).jpg\n",
            "[%] File Downloaded !\n",
            "\n",
            "[%] Downloading Image #21 from https://qph.fs.quoracdn.net/main-qimg-2c12458ce3ee1364e8f1112023c4ff43\n",
            "[%] File Downloaded !\n",
            "\n",
            "[%] Downloading Image #22 from https://i.pinimg.com/originals/2b/2d/1e/2b2d1e11e9e3c8253fa59a6285d4abe1.jpg\n",
            "[%] File Downloaded !\n",
            "\n",
            "[%] Downloading Image #23 from https://i.ytimg.com/vi/X0ONOAU-FeY/maxresdefault.jpg\n",
            "[%] File Downloaded !\n",
            "\n",
            "[%] Downloading Image #24 from http://1.bp.blogspot.com/-_sRQJWNJFFw/TpCwNWYpznI/AAAAAAAALIk/_ilMLukp4cc/w1200-h630-p-k-no-nu/th_ab115_1.jpg\n",
            "[%] File Downloaded !\n",
            "\n",
            "[%] Downloading Image #25 from https://themepack.me/i/c/749x468/media/g/50/disneys-planes-theme-14.jpg\n",
            "[%] File Downloaded !\n",
            "\n",
            "[%] Downloading Image #26 from https://3.bp.blogspot.com/-2vrtIAjwyXY/V5l2-yUaprI/AAAAAAAAOQg/ZAAtXt7rBQY6wVksQtFiPVknUss1nHNoACLcB/s1600/MATSPlane.jpg\n",
            "[%] File Downloaded !\n",
            "\n",
            "[%] Downloading Image #27 from https://i.pinimg.com/originals/1f/ce/c6/1fcec6570ac6fc9bbead9322a5561cde.jpg\n",
            "[%] File Downloaded !\n",
            "\n",
            "[%] Downloading Image #28 from https://constative.com/wp-content/uploads/2017/06/drone-pilots.jpg\n",
            "[%] File Downloaded !\n",
            "\n",
            "[%] Downloading Image #29 from https://i.pinimg.com/originals/c9/81/de/c981deb02cc5c1c283aef02136a69d27.jpg\n",
            "[%] File Downloaded !\n",
            "\n",
            "[%] Downloading Image #30 from https://www.cheatsheet.com/wp-content/uploads/2018/03/Air-force-planes.jpg\n",
            "[%] File Downloaded !\n",
            "\n",
            "[%] Downloading Image #31 from http://i.ebayimg.com/images/i/231425110506-0-1/s-l1000.jpg\n",
            "[%] File Downloaded !\n",
            "\n",
            "[%] Downloading Image #32 from https://i.pinimg.com/originals/6e/ab/5d/6eab5d18e326b8d5da1cb32b41225890.jpg\n",
            "[%] File Downloaded !\n",
            "\n",
            "[%] Downloading Image #33 from https://i.pinimg.com/originals/93/7a/ee/937aeea165f8e9665432fccbdb13bd21.png\n",
            "[%] File Downloaded !\n",
            "\n",
            "[%] Downloading Image #34 from https://qph.fs.quoracdn.net/main-qimg-b325a01e155e62b39caa1bf42d6a8263\n",
            "[%] File Downloaded !\n",
            "\n",
            "[%] Downloading Image #35 from https://4.bp.blogspot.com/-_ur8aZKwrOs/UA5zZ1CaCcI/AAAAAAAAH48/H8sUx3YF5MY/s1600/Airplane_aeroplane_aircraft_jet_wallpapers+(66).jpg\n",
            "[%] File Downloaded !\n",
            "\n",
            "[%] Downloading Image #36 from https://i.pinimg.com/originals/c4/b7/9d/c4b79d7b675e8dac59d3deda8bf83d4e.jpg\n",
            "[%] File Downloaded !\n",
            "\n",
            "[%] Downloading Image #37 from https://jundroo.blob.core.windows.net/simpleplanes/GameData/aircraft/375/1xVB9C-TopView.png\n",
            "[%] File Downloaded !\n",
            "\n",
            "[%] Downloading Image #38 from https://images-na.ssl-images-amazon.com/images/I/41oHU-ciCXL._QL70_.jpg\n",
            "[%] File Downloaded !\n",
            "\n",
            "[%] Downloading Image #39 from https://www.thetimes.co.uk/imageserver/image/%2Fmethode%2Ftimes%2Fprod%2Fweb%2Fbin%2F6e6ed1ec-cec6-11e6-9c91-8a961173ca87.jpg?crop=5442%2C3061%2C282%2C480&amp;resize=1180\n",
            "[%] File Downloaded !\n",
            "\n",
            "[%] Downloading Image #40 from https://whon1.tmsimg.com/assets/p13055498_b_h9_aa.jpg?w=720&amp;h=540\n",
            "[%] File Downloaded !\n",
            "\n",
            "\n",
            "\n",
            "[%] Done. Downloaded 40 images.\n",
            "===============================================\n",
            "\n",
            "Please show your support here\n",
            "https://www.buymeacoffee.com/gurugaurav\n",
            "\n",
            "===============================================\n",
            "\n",
            "time: 27 s (started: 2021-06-27 19:34:49 +00:00)\n"
          ],
          "name": "stdout"
        }
      ]
    },
    {
      "cell_type": "code",
      "metadata": {
        "colab": {
          "base_uri": "https://localhost:8080/"
        },
        "id": "K4hjJZ3U_5vu",
        "outputId": "4d5121c4-16dd-400d-bf17-44af9b86da58"
      },
      "source": [
        "import os\n",
        "import matplotlib.pyplot as plt\n",
        "import numpy as np\n",
        "from skimage.io import imread\n",
        "from skimage.transform import resize\n",
        "\n",
        "target = []\n",
        "images = []\n",
        "flat_data = []\n",
        "\n",
        "DATADIR = '/content/images'\n",
        "CATEGORIES = ['car','ships','planes']\n",
        "\n",
        "for category in CATEGORIES:\n",
        "  class_num = CATEGORIES.index(category)\n",
        "  path = os.path.join(DATADIR,category)\n",
        "  for img in os.listdir(path):\n",
        "    img_array = imread(os.path.join(path,img))\n",
        "    #plt.imshow(img_array)\n",
        "    #break\n",
        "    img_resized = resize(img_array,(150,150,3))\n",
        "    flat_data.append(img_resized.flatten())\n",
        "    images.append(img_resized)\n",
        "    target.append(class_num)\n",
        "\n",
        "flat_data = np.array(flat_data)\n",
        "target = np.array(target)\n",
        "images = np.array(images)"
      ],
      "execution_count": 76,
      "outputs": [
        {
          "output_type": "stream",
          "text": [
            "time: 55.4 s (started: 2021-06-27 20:45:55 +00:00)\n"
          ],
          "name": "stdout"
        }
      ]
    },
    {
      "cell_type": "code",
      "metadata": {
        "colab": {
          "base_uri": "https://localhost:8080/"
        },
        "id": "WnH2IXxijUcn",
        "outputId": "2718da76-7396-45fe-d5de-d5aee2577d82"
      },
      "source": [
        "flat_data[0]"
      ],
      "execution_count": 77,
      "outputs": [
        {
          "output_type": "execute_result",
          "data": {
            "text/plain": [
              "array([0.99607843, 0.99607843, 0.99607843, ..., 0.99607843, 0.99607843,\n",
              "       0.99607843])"
            ]
          },
          "metadata": {
            "tags": []
          },
          "execution_count": 77
        },
        {
          "output_type": "stream",
          "text": [
            "time: 8.64 ms (started: 2021-06-27 20:46:57 +00:00)\n"
          ],
          "name": "stdout"
        }
      ]
    },
    {
      "cell_type": "code",
      "metadata": {
        "colab": {
          "base_uri": "https://localhost:8080/"
        },
        "id": "mbusiDbUjtXT",
        "outputId": "5c818a92-6f3a-46db-f6e6-5cea0e8d9f0e"
      },
      "source": [
        "len(flat_data[0])"
      ],
      "execution_count": 78,
      "outputs": [
        {
          "output_type": "execute_result",
          "data": {
            "text/plain": [
              "67500"
            ]
          },
          "metadata": {
            "tags": []
          },
          "execution_count": 78
        },
        {
          "output_type": "stream",
          "text": [
            "time: 6.87 ms (started: 2021-06-27 20:47:01 +00:00)\n"
          ],
          "name": "stdout"
        }
      ]
    },
    {
      "cell_type": "code",
      "metadata": {
        "colab": {
          "base_uri": "https://localhost:8080/"
        },
        "id": "kf602WLOj1xM",
        "outputId": "5c8e17d5-d7b8-4e4e-ac83-6effa870371d"
      },
      "source": [
        "150*150*3"
      ],
      "execution_count": 79,
      "outputs": [
        {
          "output_type": "execute_result",
          "data": {
            "text/plain": [
              "67500"
            ]
          },
          "metadata": {
            "tags": []
          },
          "execution_count": 79
        },
        {
          "output_type": "stream",
          "text": [
            "time: 4.52 ms (started: 2021-06-27 20:47:04 +00:00)\n"
          ],
          "name": "stdout"
        }
      ]
    },
    {
      "cell_type": "code",
      "metadata": {
        "colab": {
          "base_uri": "https://localhost:8080/"
        },
        "id": "1n-Avvd7kBcz",
        "outputId": "8c331736-ec91-4a30-93fe-c457fc0c5c0e"
      },
      "source": [
        "target"
      ],
      "execution_count": 80,
      "outputs": [
        {
          "output_type": "execute_result",
          "data": {
            "text/plain": [
              "array([0, 0, 0, 0, 0, 0, 0, 0, 0, 0, 0, 0, 0, 0, 0, 0, 0, 0, 0, 0, 0, 0,\n",
              "       0, 0, 0, 0, 0, 0, 0, 0, 0, 0, 0, 0, 0, 0, 0, 0, 0, 0, 1, 1, 1, 1,\n",
              "       1, 1, 1, 1, 1, 1, 1, 1, 1, 1, 1, 1, 1, 1, 1, 1, 1, 1, 1, 1, 1, 1,\n",
              "       1, 1, 1, 1, 1, 1, 1, 1, 1, 1, 1, 1, 1, 1, 2, 2, 2, 2, 2, 2, 2, 2,\n",
              "       2, 2, 2, 2, 2, 2, 2, 2, 2, 2, 2, 2, 2, 2, 2, 2, 2, 2, 2, 2, 2, 2,\n",
              "       2, 2, 2, 2, 2, 2, 2, 2, 2, 2])"
            ]
          },
          "metadata": {
            "tags": []
          },
          "execution_count": 80
        },
        {
          "output_type": "stream",
          "text": [
            "time: 6.42 ms (started: 2021-06-27 20:47:10 +00:00)\n"
          ],
          "name": "stdout"
        }
      ]
    },
    {
      "cell_type": "code",
      "metadata": {
        "colab": {
          "base_uri": "https://localhost:8080/",
          "height": 302
        },
        "id": "lvHqftlZ_BrD",
        "outputId": "69c58d0f-a951-48cf-d8f0-67d74b268e48"
      },
      "source": [
        "unique,count = np.unique(target,return_counts=True)\n",
        "plt.bar(CATEGORIES,count)"
      ],
      "execution_count": 81,
      "outputs": [
        {
          "output_type": "execute_result",
          "data": {
            "text/plain": [
              "<BarContainer object of 3 artists>"
            ]
          },
          "metadata": {
            "tags": []
          },
          "execution_count": 81
        },
        {
          "output_type": "display_data",
          "data": {
            "image/png": "[encoded data removed]",
            "text/plain": [
              "<Figure size 432x288 with 1 Axes>"
            ]
          },
          "metadata": {
            "tags": [],
            "needs_background": "light"
          }
        },
        {
          "output_type": "stream",
          "text": [
            "time: 142 ms (started: 2021-06-27 20:47:14 +00:00)\n"
          ],
          "name": "stdout"
        }
      ]
    },
    {
      "cell_type": "code",
      "metadata": {
        "colab": {
          "base_uri": "https://localhost:8080/"
        },
        "id": "tnUUJgfJkJi3",
        "outputId": "5061d6fd-2009-4ce7-d1bd-4432754efaa7"
      },
      "source": [
        "from sklearn.model_selection import train_test_split\n",
        "x_train,x_test,y_train,y_test = train_test_split(flat_data,target,test_size=0.3,random_state=109)"
      ],
      "execution_count": 82,
      "outputs": [
        {
          "output_type": "stream",
          "text": [
            "time: 23.8 ms (started: 2021-06-27 20:47:21 +00:00)\n"
          ],
          "name": "stdout"
        }
      ]
    },
    {
      "cell_type": "code",
      "metadata": {
        "colab": {
          "base_uri": "https://localhost:8080/"
        },
        "id": "n_k4R2tNq5zX",
        "outputId": "c9169f7d-89c4-4952-a4c4-c20a126d564b"
      },
      "source": [
        "from sklearn.model_selection import GridSearchCV\n",
        "from sklearn import svm\n",
        "param_grid = [\n",
        "              {'C':[1,10,100,1000],'kernel':['linear']},\n",
        "              {'C':[1,10,100,1000],'gamma':[0.001,0.0001],'kernel':['rbf']}\n",
        "]\n",
        "\n",
        "svc = svm.SVC(probability=True)\n",
        "clf = GridSearchCV(svc,param_grid)\n",
        "clf.fit(x_train,y_train)"
      ],
      "execution_count": 83,
      "outputs": [
        {
          "output_type": "execute_result",
          "data": {
            "text/plain": [
              "GridSearchCV(cv=None, error_score=nan,\n",
              "             estimator=SVC(C=1.0, break_ties=False, cache_size=200,\n",
              "                           class_weight=None, coef0=0.0,\n",
              "                           decision_function_shape='ovr', degree=3,\n",
              "                           gamma='scale', kernel='rbf', max_iter=-1,\n",
              "                           probability=True, random_state=None, shrinking=True,\n",
              "                           tol=0.001, verbose=False),\n",
              "             iid='deprecated', n_jobs=None,\n",
              "             param_grid=[{'C': [1, 10, 100, 1000], 'kernel': ['linear']},\n",
              "                         {'C': [1, 10, 100, 1000], 'gamma': [0.001, 0.0001],\n",
              "                          'kernel': ['rbf']}],\n",
              "             pre_dispatch='2*n_jobs', refit=True, return_train_score=False,\n",
              "             scoring=None, verbose=0)"
            ]
          },
          "metadata": {
            "tags": []
          },
          "execution_count": 83
        },
        {
          "output_type": "stream",
          "text": [
            "time: 3min 35s (started: 2021-06-27 20:47:25 +00:00)\n"
          ],
          "name": "stdout"
        }
      ]
    },
    {
      "cell_type": "code",
      "metadata": {
        "colab": {
          "base_uri": "https://localhost:8080/"
        },
        "id": "sSTmBevev2uT",
        "outputId": "d100c6d0-321f-4d2f-d0a4-88ab9ca6c35b"
      },
      "source": [
        "y_pred = clf.predict(x_test)\n",
        "y_pred"
      ],
      "execution_count": 84,
      "outputs": [
        {
          "output_type": "execute_result",
          "data": {
            "text/plain": [
              "array([0, 1, 2, 1, 1, 0, 0, 1, 1, 0, 0, 2, 2, 2, 0, 0, 0, 2, 0, 2, 0, 1,\n",
              "       2, 0, 0, 0, 2, 1, 0, 2, 1, 1, 1, 0, 2, 2])"
            ]
          },
          "metadata": {
            "tags": []
          },
          "execution_count": 84
        },
        {
          "output_type": "stream",
          "text": [
            "time: 333 ms (started: 2021-06-27 20:51:23 +00:00)\n"
          ],
          "name": "stdout"
        }
      ]
    },
    {
      "cell_type": "code",
      "metadata": {
        "colab": {
          "base_uri": "https://localhost:8080/"
        },
        "id": "4fQLRvqIwvhk",
        "outputId": "93da30d4-ce65-43ad-e52b-0e2125f3c249"
      },
      "source": [
        "y_test"
      ],
      "execution_count": 85,
      "outputs": [
        {
          "output_type": "execute_result",
          "data": {
            "text/plain": [
              "array([0, 2, 2, 1, 2, 0, 0, 2, 1, 2, 0, 2, 0, 2, 2, 0, 0, 2, 0, 2, 1, 1,\n",
              "       2, 0, 0, 0, 2, 2, 2, 1, 1, 1, 1, 2, 2, 0])"
            ]
          },
          "metadata": {
            "tags": []
          },
          "execution_count": 85
        },
        {
          "output_type": "stream",
          "text": [
            "time: 3.39 ms (started: 2021-06-27 20:51:29 +00:00)\n"
          ],
          "name": "stdout"
        }
      ]
    },
    {
      "cell_type": "code",
      "metadata": {
        "colab": {
          "base_uri": "https://localhost:8080/"
        },
        "id": "HnsCA1bHw4ou",
        "outputId": "ac370875-a5c1-42fc-e5e2-ad8ca457bd6f"
      },
      "source": [
        "from sklearn.metrics import accuracy_score,confusion_matrix"
      ],
      "execution_count": 86,
      "outputs": [
        {
          "output_type": "stream",
          "text": [
            "time: 884 µs (started: 2021-06-27 20:51:34 +00:00)\n"
          ],
          "name": "stdout"
        }
      ]
    },
    {
      "cell_type": "code",
      "metadata": {
        "colab": {
          "base_uri": "https://localhost:8080/"
        },
        "id": "tO5B4oDBxDvc",
        "outputId": "3d8ca4e2-7856-4938-f421-e7ca3f42fe31"
      },
      "source": [
        "accuracy_score(y_pred,y_test)"
      ],
      "execution_count": 87,
      "outputs": [
        {
          "output_type": "execute_result",
          "data": {
            "text/plain": [
              "0.6666666666666666"
            ]
          },
          "metadata": {
            "tags": []
          },
          "execution_count": 87
        },
        {
          "output_type": "stream",
          "text": [
            "time: 8.79 ms (started: 2021-06-27 20:51:37 +00:00)\n"
          ],
          "name": "stdout"
        }
      ]
    },
    {
      "cell_type": "code",
      "metadata": {
        "colab": {
          "base_uri": "https://localhost:8080/"
        },
        "id": "0AWumuTfxyZJ",
        "outputId": "de683ec8-82e6-4a54-c65e-8ed0f5788ff9"
      },
      "source": [
        "confusion_matrix(y_pred,y_test)"
      ],
      "execution_count": 88,
      "outputs": [
        {
          "output_type": "execute_result",
          "data": {
            "text/plain": [
              "array([[10,  1,  4],\n",
              "       [ 0,  6,  4],\n",
              "       [ 2,  1,  8]])"
            ]
          },
          "metadata": {
            "tags": []
          },
          "execution_count": 88
        },
        {
          "output_type": "stream",
          "text": [
            "time: 9.56 ms (started: 2021-06-27 20:51:44 +00:00)\n"
          ],
          "name": "stdout"
        }
      ]
    },
    {
      "cell_type": "code",
      "metadata": {
        "colab": {
          "base_uri": "https://localhost:8080/"
        },
        "id": "YWHUJDnZ1A9g",
        "outputId": "15c830f2-cf07-4857-ac84-a721aee5f49b"
      },
      "source": [
        "import pickle\n",
        "pickle.dump(clf,open('img_model.p','wb'))"
      ],
      "execution_count": 89,
      "outputs": [
        {
          "output_type": "stream",
          "text": [
            "time: 66.4 ms (started: 2021-06-27 20:51:47 +00:00)\n"
          ],
          "name": "stdout"
        }
      ]
    },
    {
      "cell_type": "code",
      "metadata": {
        "colab": {
          "base_uri": "https://localhost:8080/"
        },
        "id": "oEWXz14L1nc4",
        "outputId": "a5c2dc11-28a3-48a8-9da8-f8dd422d88f7"
      },
      "source": [
        "model = pickle.load(open('img_model.p','rb'))"
      ],
      "execution_count": 90,
      "outputs": [
        {
          "output_type": "stream",
          "text": [
            "time: 29.1 ms (started: 2021-06-27 20:51:52 +00:00)\n"
          ],
          "name": "stdout"
        }
      ]
    },
    {
      "cell_type": "code",
      "metadata": {
        "colab": {
          "base_uri": "https://localhost:8080/",
          "height": 342
        },
        "id": "d2fm69j94NVg",
        "outputId": "22fa5be6-c1b8-49bc-c718-822550b8d5c0"
      },
      "source": [
        "flat_data = []\n",
        "url = input('Enter the URL')\n",
        "img = imread(url)\n",
        "img_resized = resize(img,(150,150,3))\n",
        "flat_data.append(img_resized.flatten())\n",
        "flat_data = np.array(flat_data)\n",
        "print(img.shape)\n",
        "plt.imshow(img_resized)\n",
        "y_out = model.predict(flat_data)\n",
        "y_out = CATEGORIES[y_out[0]]\n",
        "print(f' PREDICTED OUTPUT: {y_out}')"
      ],
      "execution_count": 95,
      "outputs": [
        {
          "output_type": "stream",
          "text": [
            "Enter the URLhttps://th.bing.com/th/id/OIP.dsiC7a1xQd-CPZpBuMeCDgHaE8?w=233&h=180&c=7&o=5&pid=1.7\n",
            "(180, 233, 3)\n",
            " PREDICTED OUTPUT: car\n"
          ],
          "name": "stdout"
        },
        {
          "output_type": "display_data",
          "data": {
            "image/png": "[encoded data removed]",
            "text/plain": [
              "<Figure size 432x288 with 1 Axes>"
            ]
          },
          "metadata": {
            "tags": [],
            "needs_background": "light"
          }
        },
        {
          "output_type": "stream",
          "text": [
            "time: 4.12 s (started: 2021-06-27 20:54:47 +00:00)\n"
          ],
          "name": "stdout"
        }
      ]
    },
    {
      "cell_type": "code",
      "metadata": {
        "id": "0vDJT_cx-LEB"
      },
      "source": [
        ""
      ],
      "execution_count": null,
      "outputs": []
    }
  ]
}